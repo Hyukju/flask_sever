{
 "metadata": {
  "language_info": {
   "codemirror_mode": {
    "name": "ipython",
    "version": 3
   },
   "file_extension": ".py",
   "mimetype": "text/x-python",
   "name": "python",
   "nbconvert_exporter": "python",
   "pygments_lexer": "ipython3",
   "version": "3.7.6"
  },
  "orig_nbformat": 2,
  "kernelspec": {
   "name": "python37664bitkerasconda47d12157a7e84240ad4645eab7870fc9",
   "display_name": "Python 3.7.6 64-bit ('keras': conda)"
  },
  "metadata": {
   "interpreter": {
    "hash": "c4c1cf351daf665722d1c3f3e43a8a3aced6245d336eb7e46cde23f9ce339f48"
   }
  }
 },
 "nbformat": 4,
 "nbformat_minor": 2,
 "cells": [
  {
   "cell_type": "code",
   "execution_count": 3,
   "metadata": {},
   "outputs": [
    {
     "output_type": "error",
     "ename": "IndentationError",
     "evalue": "unindent does not match any outer indentation level (<tokenize>, line 18)",
     "traceback": [
      "\u001b[1;36m  File \u001b[1;32m\"<tokenize>\"\u001b[1;36m, line \u001b[1;32m18\u001b[0m\n\u001b[1;33m    result = json.dumps(out, ensure_ascii=False)\u001b[0m\n\u001b[1;37m    ^\u001b[0m\n\u001b[1;31mIndentationError\u001b[0m\u001b[1;31m:\u001b[0m unindent does not match any outer indentation level\n"
     ]
    }
   ],
   "source": [
    "from flask import Flask, make_response, request\n",
    "import json\n",
    "app = Flask(__name__)\n",
    "\n",
    "def message():\n",
    "    # json\n",
    "    out = { \"searching_mode\": \"lab_searching\",\n",
    "    \"searching_opt_num\": 3,\n",
    "    \"searching_opt_all\": True,\n",
    "    \"searching_opt_paper\": True,\n",
    "    \"searching_opt_patent\": True,\n",
    "    \"request\": \"영상처리 관련 연구실 검색\",\n",
    "    \"keywords\": [\"keyword1\",\"keyword2\",\"keyword3\"]}\n",
    "\n",
    "    # 한글 깨짐 방지\n",
    "    result = json.dumps(out, ensure_ascii=False)\n",
    "    res = make_response(result)\n",
    "    return res \n",
    "\n",
    "@app.route(\"/\")\n",
    "@app.route(\"/hello\")\n",
    "def hello():\n",
    "    res = message()\n",
    "    return res\n",
    "\n",
    "@app.route(\"/request\", methods=['POST'])\n",
    "def get_request():\n",
    "    #post 응답\n",
    "    if request.method =='POST':        \n",
    "        print('check json: ',request.is_json)\n",
    "        print('request message:', request.get_json())\n",
    "    return message()\n",
    "\n",
    "if __name__ == \"__main__\":\n",
    "    app.run(host='0.0.0.0')"
   ]
  },
  {
   "cell_type": "code",
   "execution_count": null,
   "metadata": {},
   "outputs": [],
   "source": []
  }
 ]
}