{
 "metadata": {
  "language_info": {
   "codemirror_mode": {
    "name": "ipython",
    "version": 3
   },
   "file_extension": ".py",
   "mimetype": "text/x-python",
   "name": "python",
   "nbconvert_exporter": "python",
   "pygments_lexer": "ipython3",
   "version": "3.7.6"
  },
  "orig_nbformat": 2,
  "kernelspec": {
   "name": "python376jvsc74a57bd0c4c1cf351daf665722d1c3f3e43a8a3aced6245d336eb7e46cde23f9ce339f48",
   "display_name": "Python 3.7.6 64-bit ('keras': conda)"
  }
 },
 "nbformat": 4,
 "nbformat_minor": 2,
 "cells": [
  {
   "cell_type": "code",
   "execution_count": 1,
   "metadata": {},
   "outputs": [
    {
     "output_type": "stream",
     "name": "stdout",
     "text": [
      "200\n"
     ]
    }
   ],
   "source": [
    "import requests\n",
    "\n",
    "URL = 'http://155.230.14.132:5000'\n",
    "response = requests.get(URL)\n",
    "print(response.status_code)\n",
    "res = response.json()"
   ]
  },
  {
   "cell_type": "code",
   "execution_count": 2,
   "metadata": {},
   "outputs": [
    {
     "output_type": "stream",
     "name": "stdout",
     "text": [
      "{'searching_mode': 'lab_searching', 'searching_opt_num': 3, 'searching_opt_all': True, 'searching_opt_paper': True, 'searching_opt_patent': True, 'request': '영상처리 관련 연구실 검색', 'keywords': ['keyword1', 'keyword2', 'keyword3']}\n"
     ]
    }
   ],
   "source": [
    "print(res)"
   ]
  },
  {
   "cell_type": "code",
   "execution_count": 3,
   "metadata": {},
   "outputs": [
    {
     "output_type": "stream",
     "name": "stdout",
     "text": [
      "{'name': 'joo', 'age': 40}\n{\"searching_mode\": \"lab_searching\", \"searching_opt_num\": 3, \"searching_opt_all\": true, \"searching_opt_paper\": true, \"searching_opt_patent\": true, \"request\": \"영상처리 관련 연구실 검색\", \"keywords\": [\"keyword1\", \"keyword2\", \"keyword3\"]}\n"
     ]
    }
   ],
   "source": [
    "import json\n",
    "URL = 'http://155.230.14.132:5000/request'\n",
    "\n",
    "data = {'name':'joo','age':40}\n",
    "\n",
    "print(data)\n",
    "\n",
    "res = requests.post(URL, json=json.dumps(data))\n",
    "\n",
    "print(res.text)"
   ]
  },
  {
   "cell_type": "code",
   "execution_count": null,
   "metadata": {},
   "outputs": [],
   "source": []
  }
 ]
}